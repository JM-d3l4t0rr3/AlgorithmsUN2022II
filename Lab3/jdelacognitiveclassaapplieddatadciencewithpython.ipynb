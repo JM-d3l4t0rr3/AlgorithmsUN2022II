{
  "nbformat": 4,
  "nbformat_minor": 0,
  "metadata": {
    "colab": {
      "provenance": [],
      "authorship_tag": "ABX9TyNPl6XKTi3+7F5CEgIYHUdx",
      "include_colab_link": true
    },
    "kernelspec": {
      "name": "python3",
      "display_name": "Python 3"
    },
    "language_info": {
      "name": "python"
    }
  },
  "cells": [
    {
      "cell_type": "markdown",
      "metadata": {
        "id": "view-in-github",
        "colab_type": "text"
      },
      "source": [
        "<a href=\"https://colab.research.google.com/github/JM-d3l4t0rr3/AlgorithmsUN2022II/blob/main/Lab3/jdelacognitiveclassaapplieddatadciencewithpython.ipynb\" target=\"_parent\"><img src=\"https://colab.research.google.com/assets/colab-badge.svg\" alt=\"Open In Colab\"/></a>"
      ]
    },
    {
      "cell_type": "markdown",
      "source": [
        "***LINKEDIN:***  https://www.linkedin.com/in/juanmadlts/\n",
        "\n",
        "***Python For Data Science:*** https://courses.cognitiveclass.ai/certificates/fd89ed908a884e0196d42824e873830e\n",
        "\n",
        "***Data Analisis With Python:*** https://courses.cognitiveclass.ai/certificates/232fef13cf714000aa64c2823aa28cbb\n",
        "\n",
        "***Data Visualization With Python:*** "
      ],
      "metadata": {
        "id": "LgfST9hTxjlv"
      }
    }
  ]
}